{
  "cells": [
    {
      "cell_type": "code",
      "source": [
        "!pip uninstall qiskit_nature --yes\n",
        "!pip uninstall pyscf --yes"
      ],
      "metadata": {
        "colab": {
          "base_uri": "https://localhost:8080/"
        },
        "id": "XvGVBpyt6nki",
        "outputId": "6b2284a1-fad8-4220-f9e3-f3f3437204f7"
      },
      "id": "XvGVBpyt6nki",
      "execution_count": 41,
      "outputs": [
        {
          "output_type": "stream",
          "name": "stdout",
          "text": [
            "\u001b[33mWARNING: Skipping qiskit_nature as it is not installed.\u001b[0m\u001b[33m\n",
            "\u001b[0m\u001b[33mWARNING: Skipping pyscf as it is not installed.\u001b[0m\u001b[33m\n",
            "\u001b[0m"
          ]
        }
      ]
    },
    {
      "cell_type": "code",
      "source": [
        "!pip install qiskit\n",
        "!pip install qiskit_algorithms\n",
        "!pip install qiskit-nature[pyscf]"
      ],
      "metadata": {
        "colab": {
          "base_uri": "https://localhost:8080/"
        },
        "id": "wRLqCZZ9sv0n",
        "outputId": "8cd6391e-ab87-4761-f234-1acbee4c1aa9"
      },
      "id": "wRLqCZZ9sv0n",
      "execution_count": 1,
      "outputs": [
        {
          "output_type": "stream",
          "name": "stdout",
          "text": [
            "Requirement already satisfied: qiskit in /usr/local/lib/python3.10/dist-packages (1.2.4)\n",
            "Requirement already satisfied: rustworkx>=0.15.0 in /usr/local/lib/python3.10/dist-packages (from qiskit) (0.15.1)\n",
            "Requirement already satisfied: numpy<3,>=1.17 in /usr/local/lib/python3.10/dist-packages (from qiskit) (1.26.4)\n",
            "Requirement already satisfied: scipy>=1.5 in /usr/local/lib/python3.10/dist-packages (from qiskit) (1.13.1)\n",
            "Requirement already satisfied: sympy>=1.3 in /usr/local/lib/python3.10/dist-packages (from qiskit) (1.13.1)\n",
            "Requirement already satisfied: dill>=0.3 in /usr/local/lib/python3.10/dist-packages (from qiskit) (0.3.9)\n",
            "Requirement already satisfied: python-dateutil>=2.8.0 in /usr/local/lib/python3.10/dist-packages (from qiskit) (2.8.2)\n",
            "Requirement already satisfied: stevedore>=3.0.0 in /usr/local/lib/python3.10/dist-packages (from qiskit) (5.3.0)\n",
            "Requirement already satisfied: typing-extensions in /usr/local/lib/python3.10/dist-packages (from qiskit) (4.12.2)\n",
            "Requirement already satisfied: symengine<0.14,>=0.11 in /usr/local/lib/python3.10/dist-packages (from qiskit) (0.13.0)\n",
            "Requirement already satisfied: six>=1.5 in /usr/local/lib/python3.10/dist-packages (from python-dateutil>=2.8.0->qiskit) (1.16.0)\n",
            "Requirement already satisfied: pbr>=2.0.0 in /usr/local/lib/python3.10/dist-packages (from stevedore>=3.0.0->qiskit) (6.1.0)\n",
            "Requirement already satisfied: mpmath<1.4,>=1.1.0 in /usr/local/lib/python3.10/dist-packages (from sympy>=1.3->qiskit) (1.3.0)\n",
            "Requirement already satisfied: qiskit_algorithms in /usr/local/lib/python3.10/dist-packages (0.3.1)\n",
            "Requirement already satisfied: qiskit>=0.44 in /usr/local/lib/python3.10/dist-packages (from qiskit_algorithms) (1.2.4)\n",
            "Requirement already satisfied: scipy>=1.4 in /usr/local/lib/python3.10/dist-packages (from qiskit_algorithms) (1.13.1)\n",
            "Requirement already satisfied: numpy>=1.17 in /usr/local/lib/python3.10/dist-packages (from qiskit_algorithms) (1.26.4)\n",
            "Requirement already satisfied: rustworkx>=0.15.0 in /usr/local/lib/python3.10/dist-packages (from qiskit>=0.44->qiskit_algorithms) (0.15.1)\n",
            "Requirement already satisfied: sympy>=1.3 in /usr/local/lib/python3.10/dist-packages (from qiskit>=0.44->qiskit_algorithms) (1.13.1)\n",
            "Requirement already satisfied: dill>=0.3 in /usr/local/lib/python3.10/dist-packages (from qiskit>=0.44->qiskit_algorithms) (0.3.9)\n",
            "Requirement already satisfied: python-dateutil>=2.8.0 in /usr/local/lib/python3.10/dist-packages (from qiskit>=0.44->qiskit_algorithms) (2.8.2)\n",
            "Requirement already satisfied: stevedore>=3.0.0 in /usr/local/lib/python3.10/dist-packages (from qiskit>=0.44->qiskit_algorithms) (5.3.0)\n",
            "Requirement already satisfied: typing-extensions in /usr/local/lib/python3.10/dist-packages (from qiskit>=0.44->qiskit_algorithms) (4.12.2)\n",
            "Requirement already satisfied: symengine<0.14,>=0.11 in /usr/local/lib/python3.10/dist-packages (from qiskit>=0.44->qiskit_algorithms) (0.13.0)\n",
            "Requirement already satisfied: six>=1.5 in /usr/local/lib/python3.10/dist-packages (from python-dateutil>=2.8.0->qiskit>=0.44->qiskit_algorithms) (1.16.0)\n",
            "Requirement already satisfied: pbr>=2.0.0 in /usr/local/lib/python3.10/dist-packages (from stevedore>=3.0.0->qiskit>=0.44->qiskit_algorithms) (6.1.0)\n",
            "Requirement already satisfied: mpmath<1.4,>=1.1.0 in /usr/local/lib/python3.10/dist-packages (from sympy>=1.3->qiskit>=0.44->qiskit_algorithms) (1.3.0)\n",
            "Requirement already satisfied: qiskit-nature[pyscf] in /usr/local/lib/python3.10/dist-packages (0.7.2)\n",
            "Requirement already satisfied: qiskit>=0.44 in /usr/local/lib/python3.10/dist-packages (from qiskit-nature[pyscf]) (1.2.4)\n",
            "Requirement already satisfied: qiskit-algorithms>=0.2.1 in /usr/local/lib/python3.10/dist-packages (from qiskit-nature[pyscf]) (0.3.1)\n",
            "Requirement already satisfied: scipy>=1.4 in /usr/local/lib/python3.10/dist-packages (from qiskit-nature[pyscf]) (1.13.1)\n",
            "Requirement already satisfied: numpy>=1.17 in /usr/local/lib/python3.10/dist-packages (from qiskit-nature[pyscf]) (1.26.4)\n",
            "Requirement already satisfied: psutil>=5 in /usr/local/lib/python3.10/dist-packages (from qiskit-nature[pyscf]) (5.9.5)\n",
            "Requirement already satisfied: setuptools>=40.1.0 in /usr/local/lib/python3.10/dist-packages (from qiskit-nature[pyscf]) (75.1.0)\n",
            "Requirement already satisfied: typing-extensions in /usr/local/lib/python3.10/dist-packages (from qiskit-nature[pyscf]) (4.12.2)\n",
            "Requirement already satisfied: h5py in /usr/local/lib/python3.10/dist-packages (from qiskit-nature[pyscf]) (3.12.1)\n",
            "Requirement already satisfied: rustworkx>=0.12 in /usr/local/lib/python3.10/dist-packages (from qiskit-nature[pyscf]) (0.15.1)\n",
            "Requirement already satisfied: pyscf in /usr/local/lib/python3.10/dist-packages (from qiskit-nature[pyscf]) (2.7.0)\n",
            "Requirement already satisfied: sympy>=1.3 in /usr/local/lib/python3.10/dist-packages (from qiskit>=0.44->qiskit-nature[pyscf]) (1.13.1)\n",
            "Requirement already satisfied: dill>=0.3 in /usr/local/lib/python3.10/dist-packages (from qiskit>=0.44->qiskit-nature[pyscf]) (0.3.9)\n",
            "Requirement already satisfied: python-dateutil>=2.8.0 in /usr/local/lib/python3.10/dist-packages (from qiskit>=0.44->qiskit-nature[pyscf]) (2.8.2)\n",
            "Requirement already satisfied: stevedore>=3.0.0 in /usr/local/lib/python3.10/dist-packages (from qiskit>=0.44->qiskit-nature[pyscf]) (5.3.0)\n",
            "Requirement already satisfied: symengine<0.14,>=0.11 in /usr/local/lib/python3.10/dist-packages (from qiskit>=0.44->qiskit-nature[pyscf]) (0.13.0)\n",
            "Requirement already satisfied: six>=1.5 in /usr/local/lib/python3.10/dist-packages (from python-dateutil>=2.8.0->qiskit>=0.44->qiskit-nature[pyscf]) (1.16.0)\n",
            "Requirement already satisfied: pbr>=2.0.0 in /usr/local/lib/python3.10/dist-packages (from stevedore>=3.0.0->qiskit>=0.44->qiskit-nature[pyscf]) (6.1.0)\n",
            "Requirement already satisfied: mpmath<1.4,>=1.1.0 in /usr/local/lib/python3.10/dist-packages (from sympy>=1.3->qiskit>=0.44->qiskit-nature[pyscf]) (1.3.0)\n"
          ]
        }
      ]
    },
    {
      "cell_type": "code",
      "execution_count": 2,
      "id": "3a9149f0-972b-4ef5-a8b8-6543720cf602",
      "metadata": {
        "tags": [],
        "id": "3a9149f0-972b-4ef5-a8b8-6543720cf602"
      },
      "outputs": [],
      "source": [
        "from qiskit_algorithms.minimum_eigensolvers import NumPyMinimumEigensolver\n",
        "from qiskit_algorithms.minimum_eigensolvers import VQE\n",
        "from qiskit_algorithms.optimizers import SLSQP\n",
        "from qiskit.primitives import Estimator\n",
        "from qiskit_nature.second_q.circuit.library import HartreeFock, UCCSD\n",
        "from qiskit_nature.second_q.algorithms import GroundStateEigensolver\n",
        "from qiskit_nature.units import DistanceUnit\n",
        "from qiskit_nature.second_q.mappers import JordanWignerMapper\n",
        "from qiskit_nature.second_q.drivers import PySCFDriver\n",
        "from numpy import sin\n",
        "from numpy import cos\n",
        "from numpy import pi\n",
        "from qiskit_nature.second_q.transformers import FreezeCoreTransformer\n",
        "import pyscf\n",
        "\n",
        "\n",
        "\n",
        "def get_groundstate_energy(distance):\n",
        "    driver = PySCFDriver(\n",
        "        atom=\"O 0 0 0; H 0 \"+str(distance*sin(52/180*pi))+\" \"+str(distance*cos(52/180*pi))+\"; H 0 \"+str(-distance*sin(52/180*pi))+\" \"+str(distance*cos(52/180*pi)),\n",
        "        #atom = \"H 0 0 0; H 0 0 \"+str(distance),\n",
        "        basis=\"sto3g\",\n",
        "        charge=0,\n",
        "        spin=0,\n",
        "        unit=DistanceUnit.ANGSTROM,\n",
        "        max_cycle = 1,\n",
        "    )\n",
        "\n",
        "    es_problem = driver.run()\n",
        "\n",
        "    es_problem = FreezeCoreTransformer().transform(es_problem)\n",
        "\n",
        "    mapper = JordanWignerMapper()\n",
        "    tapered_mapper = es_problem.get_tapered_mapper(mapper)\n",
        "\n",
        "    ansatz = UCCSD(\n",
        "        es_problem.num_spatial_orbitals,\n",
        "        es_problem.num_particles,\n",
        "        mapper,\n",
        "        initial_state= HartreeFock(\n",
        "            es_problem.num_spatial_orbitals,\n",
        "            es_problem.num_particles,\n",
        "            mapper,\n",
        "        ),\n",
        "    )\n",
        "\n",
        "    ansatz2 = UCCSD(\n",
        "        es_problem.num_spatial_orbitals,\n",
        "        es_problem.num_particles,\n",
        "        tapered_mapper,\n",
        "        initial_state=HartreeFock(\n",
        "            es_problem.num_spatial_orbitals,\n",
        "            es_problem.num_particles,\n",
        "            tapered_mapper,\n",
        "        ),\n",
        "    )\n",
        "\n",
        "    numpy_solver = NumPyMinimumEigensolver()\n",
        "    vqe_solver = VQE(Estimator(), ansatz, SLSQP())\n",
        "    vqe_solver.initial_point = [0.0] * ansatz.num_parameters\n",
        "    vqe_solver2 = VQE(Estimator(), ansatz2, SLSQP())\n",
        "    vqe_solver2.initial_point = [0.0] * ansatz2.num_parameters\n",
        "\n",
        "    #calc1 = GroundStateEigensolver(mapper, numpy_solver)\n",
        "    #calc2 = GroundStateEigensolver(mapper, vqe_solver)\n",
        "    calc3 = GroundStateEigensolver(tapered_mapper, numpy_solver)\n",
        "    calc4 = GroundStateEigensolver(tapered_mapper, vqe_solver2)\n",
        "    #res1 = calc1.solve(es_problem)\n",
        "    #res2 = calc2.solve(es_problem)\n",
        "    res3 = calc3.solve(es_problem)\n",
        "    res4 = calc4.solve(es_problem)\n",
        "    return res3.total_energies, res4.total_energies\n",
        "\n",
        "\n"
      ]
    },
    {
      "cell_type": "code",
      "execution_count": 7,
      "id": "40172be6-0f15-4f97-8116-6858bdd7f1e3",
      "metadata": {
        "tags": [],
        "colab": {
          "base_uri": "https://localhost:8080/"
        },
        "id": "40172be6-0f15-4f97-8116-6858bdd7f1e3",
        "outputId": "6daeee3f-4891-4eed-a34a-956665e0c28a"
      },
      "outputs": [
        {
          "output_type": "stream",
          "name": "stdout",
          "text": [
            "."
          ]
        },
        {
          "output_type": "stream",
          "name": "stderr",
          "text": [
            "<ipython-input-2-491671c354b2>:59: DeprecationWarning: The class ``qiskit.primitives.estimator.Estimator`` is deprecated as of qiskit 1.2. It will be removed no earlier than 3 months after the release date. All implementations of the `BaseEstimatorV1` interface have been deprecated in favor of their V2 counterparts. The V2 alternative for the `Estimator` class is `StatevectorEstimator`.\n",
            "  vqe_solver = VQE(Estimator(), ansatz, SLSQP())\n",
            "<ipython-input-2-491671c354b2>:61: DeprecationWarning: The class ``qiskit.primitives.estimator.Estimator`` is deprecated as of qiskit 1.2. It will be removed no earlier than 3 months after the release date. All implementations of the `BaseEstimatorV1` interface have been deprecated in favor of their V2 counterparts. The V2 alternative for the `Estimator` class is `StatevectorEstimator`.\n",
            "  vqe_solver2 = VQE(Estimator(), ansatz2, SLSQP())\n"
          ]
        },
        {
          "output_type": "stream",
          "name": "stdout",
          "text": [
            "...............................done\n"
          ]
        }
      ],
      "source": [
        "g1 = []\n",
        "g2 = []\n",
        "g3 = []\n",
        "g4 = []\n",
        "for i in range(3, 35):\n",
        "    print(\".\", end = \"\")\n",
        "    g03, g04= get_groundstate_energy(i/10)\n",
        "    # g1.append(g01[0])\n",
        "    # g2.append(g02[0])\n",
        "    g3.append(g03[0])\n",
        "    g4.append(g04[0])\n",
        "print(\"done\")"
      ]
    },
    {
      "cell_type": "code",
      "execution_count": 9,
      "id": "a815f671-fb34-4ca3-84a9-3efb45c9b3ca",
      "metadata": {
        "id": "a815f671-fb34-4ca3-84a9-3efb45c9b3ca",
        "colab": {
          "base_uri": "https://localhost:8080/",
          "height": 447
        },
        "outputId": "0f6f738d-2797-4989-b75a-141621492e5a"
      },
      "outputs": [
        {
          "output_type": "execute_result",
          "data": {
            "text/plain": [
              "[<matplotlib.lines.Line2D at 0x78b510aa1db0>]"
            ]
          },
          "metadata": {},
          "execution_count": 9
        },
        {
          "output_type": "display_data",
          "data": {
            "text/plain": [
              "<Figure size 640x480 with 1 Axes>"
            ],
            "image/png": "[encoded data removed]"
          },
          "metadata": {}
        }
      ],
      "source": [
        "import matplotlib.pyplot as plt\n",
        "axis = [i/10 for i in range(3, 35)]\n",
        "\n",
        "\n",
        "# plt.plot(axis, g1)\n",
        "# plt.plot(axis, g2)\n",
        "plt.plot(axis, g3)\n",
        "plt.plot(axis, g4)"
      ]
    }
  ],
  "metadata": {
    "kernelspec": {
      "display_name": "Python 3",
      "language": "python",
      "name": "python3"
    },
    "language_info": {
      "codemirror_mode": {
        "name": "ipython",
        "version": 3
      },
      "file_extension": ".py",
      "mimetype": "text/x-python",
      "name": "python",
      "nbconvert_exporter": "python",
      "pygments_lexer": "ipython3",
      "version": "3.11.3"
    },
    "colab": {
      "provenance": []
    }
  },
  "nbformat": 4,
  "nbformat_minor": 5
}